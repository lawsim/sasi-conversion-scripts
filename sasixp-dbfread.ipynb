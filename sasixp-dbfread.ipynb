{
 "cells": [
  {
   "cell_type": "code",
   "execution_count": 94,
   "metadata": {},
   "outputs": [],
   "source": [
    "from dbfread import DBF\n",
    "import pandas as pd\n",
    "import numpy as np\n",
    "import glob\n",
    "import os\n",
    "import re\n",
    "from collections import OrderedDict\n",
    "\n",
    "\n",
    "#ASTUYXXX.DBF\n",
    "#Y = year.  2 = 2002-2003\n"
   ]
  },
  {
   "cell_type": "code",
   "execution_count": 85,
   "metadata": {},
   "outputs": [
    {
     "name": "stdout",
     "output_type": "stream",
     "text": [
      "{'2': '2002-2003', '3': '2003-2004', '4': '2004-2005', '5': '2005-2006', '6': '2006-2007', '7': '2007-2008', '8': '2008-2009', '9': '2009-2010', '0': '2010-2011'} {'001': 'Bunker', '002': 'Graham', '003': 'Kennedy', '004': 'Lincoln', '005': 'Milani', '007': 'Musick', '009': 'Schilling', '010': 'Snow', '020': 'New Beginnings', '022': 'NJHS', '030': 'Progressive Academy', '031': 'NMHS', '050': 'Bridgepoint', '065': 'Crossroads'}\n"
     ]
    }
   ],
   "source": [
    "years = {\n",
    "    '2' : \"2002-2003\",\n",
    "    '3' : \"2003-2004\",\n",
    "    '4' : \"2004-2005\",\n",
    "    '5' : \"2005-2006\",\n",
    "    '6' : \"2006-2007\",\n",
    "    '7' : \"2007-2008\",\n",
    "    '8' : \"2008-2009\",\n",
    "    '9' : \"2009-2010\",\n",
    "    '0' : \"2010-2011\",\n",
    "}\n",
    "\n",
    "schools = {\n",
    "    '001' : \"Bunker\",\n",
    "    '002' : \"Graham\",\n",
    "    '003' : \"Kennedy\",\n",
    "    '004' : \"Lincoln\",\n",
    "    '005' : \"Milani\",\n",
    "    '007' : \"Musick\",\n",
    "    '009' : \"Schilling\",\n",
    "    '010' : \"Snow\",\n",
    "    '020' : \"New Beginnings\",\n",
    "    '022' : \"NJHS\",\n",
    "    '030' : \"Progressive Academy\",\n",
    "    '031' : \"NMHS\",\n",
    "    '050' : \"Bridgepoint\",\n",
    "    '065' : \"Crossroads\",\n",
    "}\n",
    "\n",
    "print(years, schools)"
   ]
  },
  {
   "cell_type": "code",
   "execution_count": 86,
   "metadata": {},
   "outputs": [],
   "source": [
    "astu_files = glob.glob('./sasixp_data_in/ASTU[0-9][0-9][0-9][0-9].DBF')\n",
    "#for fname in astu_files:\n",
    "    #print(os.path.basename(fname))\n",
    "    \n",
    "    #break"
   ]
  },
  {
   "cell_type": "code",
   "execution_count": 90,
   "metadata": {},
   "outputs": [],
   "source": [
    "savecols = ['PERMNUM',\n",
    "'ENTERDATE',\n",
    "'LEAVEDATE',\n",
    "'ENTERCODE',\n",
    "'LEAVECODE',\n",
    "'LASTNAME',\n",
    "'FIRSTNAME',\n",
    "'MIDDLENAME',\n",
    "'BIRTHDATE',\n",
    "'GENDER',\n",
    "'GRADE',\n",
    "'PRNTGUARD',\n",
    "'MAILADDR',\n",
    "'CITY',\n",
    "'ZIPCODE',\n",
    "'STATE',\n",
    "'TELEPHONE',\n",
    "'BIRTHPLACE']\n"
   ]
  },
  {
   "cell_type": "code",
   "execution_count": 108,
   "metadata": {
    "scrolled": true
   },
   "outputs": [],
   "source": [
    "outrs = []\n",
    "\n",
    "for filepath in astu_files:\n",
    "    #filename = 'ASTU3065.DBF'\n",
    "    filename = os.path.basename(filepath)\n",
    "    \n",
    "    pattern = 'ASTU(\\d)(\\d\\d\\d)\\.DBF'\n",
    "    matches = re.match(pattern, filename)\n",
    "    year = matches.group(1)\n",
    "    school = matches.group(2)\n",
    "\n",
    "    if year not in years or school not in schools:\n",
    "        continue\n",
    "\n",
    "    table = DBF('./sasixp_data_in/' + filename, encoding='iso-8859-1')\n",
    "\n",
    "    for record in table:\n",
    "        outr = OrderedDict()\n",
    "        outr['SOURCE_PROG'] = 'SASIXP'\n",
    "        outr['SOURCE_YEAR'] = years[year]\n",
    "        outr['SOURCE_FILE'] = filename\n",
    "        outr['SOURCE_SCHOOL'] = schools[school]\n",
    "\n",
    "        for col in savecols:\n",
    "            if col in record:\n",
    "                outr[col] = record[col]\n",
    "            else:\n",
    "                outr[col] = \"\"\n",
    "\n",
    "\n",
    "        outrs.append(outr)\n",
    "    \n",
    "df_records = pd.DataFrame(outrs)\n"
   ]
  },
  {
   "cell_type": "code",
   "execution_count": 111,
   "metadata": {
    "scrolled": true
   },
   "outputs": [],
   "source": [
    "df_records.head()\n",
    "\n",
    "df_records.to_excel('out_data/sasixpout.xlsx')"
   ]
  },
  {
   "cell_type": "code",
   "execution_count": 112,
   "metadata": {
    "scrolled": false
   },
   "outputs": [
    {
     "data": {
      "text/plain": [
       "['SOURCE_PROG',\n",
       " 'SOURCE_YEAR',\n",
       " 'SOURCE_FILE',\n",
       " 'SOURCE_SCHOOL',\n",
       " 'PERMNUM',\n",
       " 'ENTERDATE',\n",
       " 'LEAVEDATE',\n",
       " 'ENTERCODE',\n",
       " 'LEAVECODE',\n",
       " 'LASTNAME',\n",
       " 'FIRSTNAME',\n",
       " 'MIDDLENAME',\n",
       " 'BIRTHDATE',\n",
       " 'GENDER',\n",
       " 'GRADE',\n",
       " 'PRNTGUARD',\n",
       " 'MAILADDR',\n",
       " 'CITY',\n",
       " 'ZIPCODE',\n",
       " 'STATE',\n",
       " 'TELEPHONE',\n",
       " 'BIRTHPLACE']"
      ]
     },
     "execution_count": 112,
     "metadata": {},
     "output_type": "execute_result"
    }
   ],
   "source": [
    "list(df_records.columns)"
   ]
  },
  {
   "cell_type": "code",
   "execution_count": 39,
   "metadata": {},
   "outputs": [],
   "source": []
  },
  {
   "cell_type": "code",
   "execution_count": null,
   "metadata": {},
   "outputs": [],
   "source": []
  }
 ],
 "metadata": {
  "kernelspec": {
   "display_name": "Python 3",
   "language": "python",
   "name": "python3"
  },
  "language_info": {
   "codemirror_mode": {
    "name": "ipython",
    "version": 3
   },
   "file_extension": ".py",
   "mimetype": "text/x-python",
   "name": "python",
   "nbconvert_exporter": "python",
   "pygments_lexer": "ipython3",
   "version": "3.7.3"
  }
 },
 "nbformat": 4,
 "nbformat_minor": 2
}
