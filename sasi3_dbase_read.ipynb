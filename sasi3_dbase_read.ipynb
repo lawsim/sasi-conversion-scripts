{
 "cells": [
  {
   "cell_type": "code",
   "execution_count": 43,
   "metadata": {},
   "outputs": [
    {
     "ename": "ImportError",
     "evalue": "cannot import name 'strip'",
     "output_type": "error",
     "traceback": [
      "\u001b[1;31m---------------------------------------------------------------------------\u001b[0m",
      "\u001b[1;31mImportError\u001b[0m                               Traceback (most recent call last)",
      "\u001b[1;32m<ipython-input-43-1dd7b23b3405>\u001b[0m in \u001b[0;36m<module>\u001b[1;34m\u001b[0m\n\u001b[0;32m      8\u001b[0m \u001b[1;32mimport\u001b[0m \u001b[0mio\u001b[0m\u001b[1;33m\u001b[0m\u001b[1;33m\u001b[0m\u001b[0m\n\u001b[0;32m      9\u001b[0m \u001b[1;32mimport\u001b[0m \u001b[0mstruct\u001b[0m\u001b[1;33m\u001b[0m\u001b[1;33m\u001b[0m\u001b[0m\n\u001b[1;32m---> 10\u001b[1;33m \u001b[1;32mfrom\u001b[0m \u001b[0mstring\u001b[0m \u001b[1;32mimport\u001b[0m \u001b[0mstrip\u001b[0m\u001b[1;33m\u001b[0m\u001b[1;33m\u001b[0m\u001b[0m\n\u001b[0m",
      "\u001b[1;31mImportError\u001b[0m: cannot import name 'strip'"
     ]
    }
   ],
   "source": [
    "from dbfread import DBF\n",
    "import pandas as pd\n",
    "import numpy as np\n",
    "import glob\n",
    "import os\n",
    "import re\n",
    "from collections import OrderedDict\n",
    "import io\n",
    "import struct\n",
    "from string import strip"
   ]
  },
  {
   "cell_type": "code",
   "execution_count": 37,
   "metadata": {},
   "outputs": [
    {
     "name": "stdout",
     "output_type": "stream",
     "text": [
      "{'0': '1990-1991', '1': '1991-1992', '2': '1992-1993', '3': '1993-1994', '4': '1994-1995', '5': '1995-1996', '6': '1996-1997', '7': '1997-1998', '8': '1998-1999', '9': '1999-2000'} {'01': 'Bunker', '02': 'Graham', '03': 'Kennedy', '04': 'Lincoln', '05': 'Milani', '07': 'Musick', '09': 'Schilling', '10': 'Snow', '20': 'New Beginnings', '22': 'NJHS', '30': 'Progressive Academy', '31': 'NMHS', '50': 'Bridgepoint', '65': 'Crossroads'}\n"
     ]
    }
   ],
   "source": [
    "years = {\n",
    "    '0' : \"1990-1991\",\n",
    "    '1' : \"1991-1992\",\n",
    "    '2' : \"1992-1993\",\n",
    "    '3' : \"1993-1994\",\n",
    "    '4' : \"1994-1995\",\n",
    "    '5' : \"1995-1996\",\n",
    "    '6' : \"1996-1997\",\n",
    "    '7' : \"1997-1998\",\n",
    "    '8' : \"1998-1999\",\n",
    "    '9' : \"1999-2000\",\n",
    "}\n",
    "\n",
    "schools = {\n",
    "    '01' : \"Bunker\",\n",
    "    '02' : \"Graham\",\n",
    "    '03' : \"Kennedy\",\n",
    "    '04' : \"Lincoln\",\n",
    "    '05' : \"Milani\",\n",
    "    '07' : \"Musick\",\n",
    "    '09' : \"Schilling\",\n",
    "    '10' : \"Snow\",\n",
    "    '20' : \"New Beginnings\",\n",
    "    '22' : \"NJHS\",\n",
    "    '30' : \"Progressive Academy\",\n",
    "    '31' : \"NMHS\",\n",
    "    '50' : \"Bridgepoint\",\n",
    "    '65' : \"Crossroads\",\n",
    "}\n",
    "\n",
    "print(years, schools)"
   ]
  },
  {
   "cell_type": "code",
   "execution_count": 38,
   "metadata": {},
   "outputs": [],
   "source": [
    "savecols = ['PERMNUM',\n",
    "'ENTERDATE',\n",
    "'LEAVEDATE',\n",
    "'ENTERCODE',\n",
    "'LEAVECODE',\n",
    "'LASTNAME',\n",
    "'FIRSTNAME',\n",
    "'MIDDLENAME',\n",
    "'BIRTHDATE',\n",
    "'GENDER',\n",
    "'GRADE',\n",
    "'PRNTGUARD',\n",
    "'MAILADDR',\n",
    "'CITY',\n",
    "'ZIPCODE',\n",
    "'STATE',\n",
    "'TELEPHONE',\n",
    "'BIRTHPLACE']\n"
   ]
  },
  {
   "cell_type": "code",
   "execution_count": 57,
   "metadata": {},
   "outputs": [],
   "source": [
    "astu_files = glob.glob('./sasi3_data_in/STU[0-9][0-9][0-9].DAT')\n",
    "#for fname in astu_files:\n",
    "    #print(os.path.basename(fname))\n",
    "    \n",
    "    #break"
   ]
  },
  {
   "cell_type": "code",
   "execution_count": 61,
   "metadata": {},
   "outputs": [
    {
     "name": "stdout",
     "output_type": "stream",
     "text": [
      "0 11  not found\n",
      "0 13  not found\n",
      "0 15  not found\n",
      "0 17  not found\n",
      "0 27  not found\n",
      "0 45  not found\n",
      "0 46  not found\n",
      "0 60  not found\n",
      "0 61  not found\n",
      "0 62  not found\n",
      "0 63  not found\n",
      "0 64  not found\n",
      "0 88  not found\n",
      "1 27  not found\n",
      "1 45  not found\n",
      "1 46  not found\n",
      "3 56  not found\n",
      "4 27  not found\n",
      "4 72  not found\n",
      "8 24  not found\n",
      "8 27  not found\n",
      "8 55  not found\n",
      "8 56  not found\n",
      "8 57  not found\n",
      "8 58  not found\n",
      "9 11  not found\n",
      "9 12  not found\n",
      "9 13  not found\n",
      "9 15  not found\n",
      "9 17  not found\n",
      "9 25  not found\n",
      "9 27  not found\n",
      "9 45  not found\n",
      "9 46  not found\n"
     ]
    }
   ],
   "source": [
    "outrs = []\n",
    "\n",
    "for filepath in astu_files:\n",
    "    #filename = 'ASTU3065.DBF'\n",
    "    filename = os.path.basename(filepath)\n",
    "    \n",
    "    # get year/school from filename\n",
    "    pattern = 'STU(\\d)(\\d\\d)\\.DAT'\n",
    "    matches = re.match(pattern, filename)\n",
    "    year = matches.group(1)\n",
    "    school = matches.group(2)\n",
    "\n",
    "    if year not in years or school not in schools:\n",
    "        print(year, school, \" not found\")\n",
    "        continue\n",
    "    \n",
    "    # read file in and split to lines\n",
    "    inf = open(filepath, 'r')\n",
    "    line = inf.read()\n",
    "    n = 512\n",
    "    all_lines = [line[i:i+n] for i in range(0, len(line), n)]\n",
    "\n",
    "    # go through each line, add to list for dataframe\n",
    "    for line in all_lines:\n",
    "        if line[0:4] == \"0000\":\n",
    "            continue\n",
    "\n",
    "        outr = OrderedDict()\n",
    "        outr['SOURCE_PROG'] = 'SASI3'\n",
    "        outr['SOURCE_YEAR'] = years[year]\n",
    "        outr['SOURCE_FILE'] = filename\n",
    "        outr['SOURCE_SCHOOL'] = schools[school]\n",
    "\n",
    "        for col in savecols:\n",
    "            outr[col] = \"\"\n",
    "\n",
    "        outr['STUNUM'] = line[0:4].strip()\n",
    "        outr['LASTNAME'] = line[4:20].strip()\n",
    "        outr['FIRSTNAME'] = line[20:33].strip()\n",
    "        outr['MIDDLENAME'] = line[33:46].strip()\n",
    "        outr['PERMNUM'] = line[46:56].strip()\n",
    "        outr['GENDER'] = line[56:57].strip()\n",
    "        outr['GRADE'] = line[57:59].strip()\n",
    "        outr['BIRTHDATE'] = line[59:65].strip()\n",
    "        outr['PRNTGUARD'] = line[65:89].strip()\n",
    "        outr['MAILADDR'] = line[89:113].strip()\n",
    "        outr['CITY'] = line[113:131].strip()\n",
    "        outr['STATE'] = line[131:133].strip()\n",
    "        outr['ZIPCODE'] = line[133:142].strip()\n",
    "        outr['TELEPHONE'] = line[142:152].strip()\n",
    "        outr['ENTERDATE'] = line[193:199].strip()\n",
    "        outr['LEAVEDATE'] = line[199:205].strip()\n",
    "        outr['BIRTHPLACE'] = line[331:351].strip()\n",
    "\n",
    "        outrs.append(outr)\n",
    "\n",
    "df_records = pd.DataFrame(outrs)"
   ]
  },
  {
   "cell_type": "code",
   "execution_count": 63,
   "metadata": {
    "scrolled": true
   },
   "outputs": [],
   "source": [
    "df_records.head()\n",
    "\n",
    "df_records.to_excel('out_data/sasi3out.xlsx')"
   ]
  }
 ],
 "metadata": {
  "kernelspec": {
   "display_name": "Python 3",
   "language": "python",
   "name": "python3"
  },
  "language_info": {
   "codemirror_mode": {
    "name": "ipython",
    "version": 3
   },
   "file_extension": ".py",
   "mimetype": "text/x-python",
   "name": "python",
   "nbconvert_exporter": "python",
   "pygments_lexer": "ipython3",
   "version": "3.7.3"
  }
 },
 "nbformat": 4,
 "nbformat_minor": 2
}
